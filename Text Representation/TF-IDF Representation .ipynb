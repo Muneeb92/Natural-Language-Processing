{
 "cells": [
  {
   "cell_type": "code",
   "execution_count": 1,
   "metadata": {},
   "outputs": [],
   "source": [
    "corpus = ['text text mining is interesting',\n",
    "         'text mining is like data mining',\n",
    "         'text mining and data mining have few differences']"
   ]
  },
  {
   "cell_type": "code",
   "execution_count": 11,
   "metadata": {},
   "outputs": [],
   "source": [
    "from sklearn.feature_extraction.text import TfidfVectorizer"
   ]
  },
  {
   "cell_type": "code",
   "execution_count": 33,
   "metadata": {},
   "outputs": [],
   "source": [
    "#vec = TfidfVectorizer() #If we want to see the frequencies then we will make object of Tfidf vectorizer\n",
    "#vec = TfidfVectorizer(min_df = 2) #Means if any word occuring less than in 2 documents and so infrequent just eliminate it\n",
    "vec = TfidfVectorizer(min_df = 1, max_df = 2, max_features = 20, ngram_range = (1,3)) #max_features fuction give best 20 features and ngram function provide us features in uni-gram,bi-gram and tri-gram etc.\n",
    "#max_df means if any word occuring more than in 2 documents just eliminate it "
   ]
  },
  {
   "cell_type": "code",
   "execution_count": 34,
   "metadata": {},
   "outputs": [],
   "source": [
    "X = vec.fit_transform(corpus)"
   ]
  },
  {
   "cell_type": "code",
   "execution_count": 35,
   "metadata": {},
   "outputs": [
    {
     "data": {
      "text/plain": [
       "<3x20 sparse matrix of type '<class 'numpy.float64'>'\n",
       "\twith 25 stored elements in Compressed Sparse Row format>"
      ]
     },
     "execution_count": 35,
     "metadata": {},
     "output_type": "execute_result"
    }
   ],
   "source": [
    "#Give us structured data of input data known as sparse matrix \n",
    "X"
   ]
  },
  {
   "cell_type": "code",
   "execution_count": 36,
   "metadata": {},
   "outputs": [
    {
     "data": {
      "text/plain": [
       "array([[0.        , 0.        , 0.        , 0.        , 0.        ,\n",
       "        0.        , 0.        , 0.        , 0.        , 0.        ,\n",
       "        0.57735027, 0.        , 0.        , 0.        , 0.        ,\n",
       "        0.        , 0.        , 0.57735027, 0.        , 0.57735027],\n",
       "       [0.        , 0.        , 0.34385143, 0.34385143, 0.        ,\n",
       "        0.        , 0.        , 0.        , 0.        , 0.        ,\n",
       "        0.34385143, 0.45212331, 0.45212331, 0.        , 0.        ,\n",
       "        0.        , 0.        , 0.34385143, 0.        , 0.34385143],\n",
       "       [0.26577704, 0.26577704, 0.20213029, 0.20213029, 0.26577704,\n",
       "        0.26577704, 0.26577704, 0.26577704, 0.26577704, 0.26577704,\n",
       "        0.        , 0.        , 0.        , 0.26577704, 0.26577704,\n",
       "        0.26577704, 0.26577704, 0.        , 0.26577704, 0.        ]])"
      ]
     },
     "execution_count": 36,
     "metadata": {},
     "output_type": "execute_result"
    }
   ],
   "source": [
    "X.toarray()   #Shows frequency of each feature which is desireable"
   ]
  },
  {
   "cell_type": "code",
   "execution_count": 37,
   "metadata": {},
   "outputs": [
    {
     "data": {
      "text/plain": [
       "['and data',\n",
       " 'and data mining',\n",
       " 'data',\n",
       " 'data mining',\n",
       " 'data mining have',\n",
       " 'differences',\n",
       " 'few',\n",
       " 'few differences',\n",
       " 'have',\n",
       " 'have few',\n",
       " 'is',\n",
       " 'is like data',\n",
       " 'like data mining',\n",
       " 'mining and',\n",
       " 'mining and data',\n",
       " 'mining have',\n",
       " 'mining have few',\n",
       " 'mining is',\n",
       " 'text mining and',\n",
       " 'text mining is']"
      ]
     },
     "execution_count": 37,
     "metadata": {},
     "output_type": "execute_result"
    }
   ],
   "source": [
    "vec.get_feature_names()    #Give us unique features"
   ]
  },
  {
   "cell_type": "code",
   "execution_count": 38,
   "metadata": {},
   "outputs": [
    {
     "data": {
      "text/plain": [
       "20"
      ]
     },
     "execution_count": 38,
     "metadata": {},
     "output_type": "execute_result"
    }
   ],
   "source": [
    "len(vec.get_feature_names())  #Just to varify length of feartures"
   ]
  },
  {
   "cell_type": "code",
   "execution_count": 39,
   "metadata": {},
   "outputs": [
    {
     "data": {
      "text/plain": [
       "{'is': 10,\n",
       " 'mining is': 17,\n",
       " 'text mining is': 19,\n",
       " 'data': 2,\n",
       " 'data mining': 3,\n",
       " 'is like data': 11,\n",
       " 'like data mining': 12,\n",
       " 'have': 8,\n",
       " 'few': 6,\n",
       " 'differences': 5,\n",
       " 'mining and': 13,\n",
       " 'and data': 0,\n",
       " 'mining have': 15,\n",
       " 'have few': 9,\n",
       " 'few differences': 7,\n",
       " 'text mining and': 18,\n",
       " 'mining and data': 14,\n",
       " 'and data mining': 1,\n",
       " 'data mining have': 4,\n",
       " 'mining have few': 16}"
      ]
     },
     "execution_count": 39,
     "metadata": {},
     "output_type": "execute_result"
    }
   ],
   "source": [
    "#interested in perticular order of features and their id \n",
    "vec.vocabulary_"
   ]
  },
  {
   "cell_type": "code",
   "execution_count": null,
   "metadata": {},
   "outputs": [],
   "source": []
  }
 ],
 "metadata": {
  "kernelspec": {
   "display_name": "Python 3",
   "language": "python",
   "name": "python3"
  },
  "language_info": {
   "codemirror_mode": {
    "name": "ipython",
    "version": 3
   },
   "file_extension": ".py",
   "mimetype": "text/x-python",
   "name": "python",
   "nbconvert_exporter": "python",
   "pygments_lexer": "ipython3",
   "version": "3.8.3"
  }
 },
 "nbformat": 4,
 "nbformat_minor": 4
}
