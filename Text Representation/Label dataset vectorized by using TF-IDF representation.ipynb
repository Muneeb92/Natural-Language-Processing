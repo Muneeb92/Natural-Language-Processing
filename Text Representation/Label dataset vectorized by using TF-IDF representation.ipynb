{
 "cells": [
  {
   "cell_type": "code",
   "execution_count": 11,
   "metadata": {},
   "outputs": [],
   "source": [
    "corpus = open('D:\\\\dataset.txt').read() #Give location of file which you want to import"
   ]
  },
  {
   "cell_type": "code",
   "execution_count": 13,
   "metadata": {},
   "outputs": [],
   "source": [
    "#File is in raw form therefor we should split it to the new line to make it more meaningful\n",
    "docs = corpus.split('\\n') "
   ]
  },
  {
   "cell_type": "code",
   "execution_count": 22,
   "metadata": {},
   "outputs": [
    {
     "data": {
      "text/plain": [
       "['this recipe is very special for cooking snacks : cooking ',\n",
       " 'I like to cook but it usually takes longer: cooking',\n",
       " 'My priorites in cooking include pastas and soup: cooking',\n",
       " 'One need to stay fit while playing professional sports: sports',\n",
       " 'It is very important for sportsmen to take care of their diet: sports',\n",
       " 'professional sports demand a lot of hardwork: sports',\n",
       " ' ']"
      ]
     },
     "execution_count": 22,
     "metadata": {},
     "output_type": "execute_result"
    }
   ],
   "source": [
    "docs"
   ]
  },
  {
   "cell_type": "code",
   "execution_count": 31,
   "metadata": {},
   "outputs": [
    {
     "ename": "ValueError",
     "evalue": "not enough values to unpack (expected 2, got 1)",
     "output_type": "error",
     "traceback": [
      "\u001b[1;31m---------------------------------------------------------------------------\u001b[0m",
      "\u001b[1;31mValueError\u001b[0m                                Traceback (most recent call last)",
      "\u001b[1;32m<ipython-input-31-f8d1e9be1091>\u001b[0m in \u001b[0;36m<module>\u001b[1;34m\u001b[0m\n\u001b[0;32m      2\u001b[0m \u001b[0mX\u001b[0m\u001b[1;33m,\u001b[0m \u001b[0my\u001b[0m \u001b[1;33m=\u001b[0m \u001b[1;33m[\u001b[0m\u001b[1;33m]\u001b[0m\u001b[1;33m,\u001b[0m \u001b[1;33m[\u001b[0m\u001b[1;33m]\u001b[0m\u001b[1;33m\u001b[0m\u001b[1;33m\u001b[0m\u001b[0m\n\u001b[0;32m      3\u001b[0m \u001b[1;32mfor\u001b[0m \u001b[0mdoc\u001b[0m \u001b[1;32min\u001b[0m \u001b[0mdocs\u001b[0m\u001b[1;33m:\u001b[0m\u001b[1;33m\u001b[0m\u001b[1;33m\u001b[0m\u001b[0m\n\u001b[1;32m----> 4\u001b[1;33m     \u001b[0mi\u001b[0m\u001b[1;33m,\u001b[0m \u001b[0ml\u001b[0m \u001b[1;33m=\u001b[0m \u001b[0mdoc\u001b[0m\u001b[1;33m.\u001b[0m\u001b[0msplit\u001b[0m\u001b[1;33m(\u001b[0m\u001b[1;34m':'\u001b[0m\u001b[1;33m)\u001b[0m\u001b[1;33m\u001b[0m\u001b[1;33m\u001b[0m\u001b[0m\n\u001b[0m\u001b[0;32m      5\u001b[0m     \u001b[1;31m#X.append(i.lstrip() .rstrip()) #i contains documents, lstrip() Removes leading spaces and rstrip() removes rare strips\u001b[0m\u001b[1;33m\u001b[0m\u001b[1;33m\u001b[0m\u001b[1;33m\u001b[0m\u001b[0m\n\u001b[0;32m      6\u001b[0m     \u001b[0mX\u001b[0m\u001b[1;33m.\u001b[0m\u001b[0mappend\u001b[0m\u001b[1;33m(\u001b[0m\u001b[0mi\u001b[0m\u001b[1;33m.\u001b[0m\u001b[0mstrip\u001b[0m\u001b[1;33m(\u001b[0m\u001b[1;33m)\u001b[0m\u001b[1;33m)\u001b[0m \u001b[1;31m#Strip function removes extra spaces\u001b[0m\u001b[1;33m\u001b[0m\u001b[1;33m\u001b[0m\u001b[0m\n",
      "\u001b[1;31mValueError\u001b[0m: not enough values to unpack (expected 2, got 1)"
     ]
    }
   ],
   "source": [
    "#Seprate labels from actual documents,labels used in Supervised learning\n",
    "X, y = [], []\n",
    "for doc in docs:  \n",
    "    i, l = doc.split(':')\n",
    "    #X.append(i.lstrip() .rstrip()) #i contains documents, lstrip() Removes leading spaces and rstrip() removes rare strips\n",
    "    X.append(i.strip()) #strip() function removes extra spaces\n",
    "    y.append(l.strip()) #l contains labels, strip() function removes extra spaces"
   ]
  },
  {
   "cell_type": "code",
   "execution_count": 43,
   "metadata": {},
   "outputs": [
    {
     "data": {
      "text/plain": [
       "['this recipe is very special for cooking snacks',\n",
       " 'I like to cook but it usually takes longer',\n",
       " 'My priorites in cooking include pastas and soup',\n",
       " 'One need to stay fit while playing professional sports',\n",
       " 'It is very important for sportsmen to take care of their diet',\n",
       " 'professional sports demand a lot of hardwork']"
      ]
     },
     "execution_count": 43,
     "metadata": {},
     "output_type": "execute_result"
    }
   ],
   "source": [
    "X"
   ]
  },
  {
   "cell_type": "code",
   "execution_count": 35,
   "metadata": {},
   "outputs": [],
   "source": [
    "from sklearn.feature_extraction.text import TfidfVectorizer"
   ]
  },
  {
   "cell_type": "code",
   "execution_count": 36,
   "metadata": {},
   "outputs": [],
   "source": [
    "vec = TfidfVectorizer() "
   ]
  },
  {
   "cell_type": "code",
   "execution_count": 37,
   "metadata": {},
   "outputs": [],
   "source": [
    "input_X = vec.fit_transform(X)"
   ]
  },
  {
   "cell_type": "code",
   "execution_count": 38,
   "metadata": {},
   "outputs": [
    {
     "data": {
      "text/plain": [
       "<6x41 sparse matrix of type '<class 'numpy.float64'>'\n",
       "\twith 51 stored elements in Compressed Sparse Row format>"
      ]
     },
     "execution_count": 38,
     "metadata": {},
     "output_type": "execute_result"
    }
   ],
   "source": [
    "#Give us structured data of input data known as sparse matrix \n",
    "input_X"
   ]
  },
  {
   "cell_type": "code",
   "execution_count": 39,
   "metadata": {},
   "outputs": [
    {
     "data": {
      "text/plain": [
       "array([[0.        , 0.        , 0.        , 0.        , 0.3170431 ,\n",
       "        0.        , 0.        , 0.        , 0.3170431 , 0.        ,\n",
       "        0.        , 0.        , 0.        , 0.3170431 , 0.        ,\n",
       "        0.        , 0.        , 0.        , 0.        , 0.        ,\n",
       "        0.        , 0.        , 0.        , 0.        , 0.        ,\n",
       "        0.        , 0.38663118, 0.38663118, 0.        , 0.38663118,\n",
       "        0.        , 0.        , 0.        , 0.        , 0.        ,\n",
       "        0.        , 0.38663118, 0.        , 0.        , 0.3170431 ,\n",
       "        0.        ],\n",
       "       [0.        , 0.37393382, 0.        , 0.37393382, 0.        ,\n",
       "        0.        , 0.        , 0.        , 0.        , 0.        ,\n",
       "        0.        , 0.        , 0.        , 0.        , 0.30663108,\n",
       "        0.37393382, 0.37393382, 0.        , 0.        , 0.        ,\n",
       "        0.        , 0.        , 0.        , 0.        , 0.        ,\n",
       "        0.        , 0.        , 0.        , 0.        , 0.        ,\n",
       "        0.        , 0.        , 0.        , 0.        , 0.37393382,\n",
       "        0.        , 0.        , 0.25887903, 0.37393382, 0.        ,\n",
       "        0.        ],\n",
       "       [0.36102204, 0.        , 0.        , 0.        , 0.29604324,\n",
       "        0.        , 0.        , 0.        , 0.        , 0.        ,\n",
       "        0.        , 0.36102204, 0.36102204, 0.        , 0.        ,\n",
       "        0.        , 0.        , 0.        , 0.36102204, 0.        ,\n",
       "        0.        , 0.        , 0.36102204, 0.        , 0.36102204,\n",
       "        0.        , 0.        , 0.        , 0.36102204, 0.        ,\n",
       "        0.        , 0.        , 0.        , 0.        , 0.        ,\n",
       "        0.        , 0.        , 0.        , 0.        , 0.        ,\n",
       "        0.        ],\n",
       "       [0.        , 0.        , 0.        , 0.        , 0.        ,\n",
       "        0.        , 0.        , 0.35750457, 0.        , 0.        ,\n",
       "        0.        , 0.        , 0.        , 0.        , 0.        ,\n",
       "        0.        , 0.        , 0.        , 0.        , 0.35750457,\n",
       "        0.        , 0.35750457, 0.        , 0.35750457, 0.        ,\n",
       "        0.29315886, 0.        , 0.        , 0.        , 0.        ,\n",
       "        0.29315886, 0.        , 0.35750457, 0.        , 0.        ,\n",
       "        0.        , 0.        , 0.24750486, 0.        , 0.        ,\n",
       "        0.35750457],\n",
       "       [0.        , 0.        , 0.31876546, 0.        , 0.        ,\n",
       "        0.        , 0.31876546, 0.        , 0.26139224, 0.        ,\n",
       "        0.31876546, 0.        , 0.        , 0.26139224, 0.26139224,\n",
       "        0.        , 0.        , 0.        , 0.        , 0.        ,\n",
       "        0.26139224, 0.        , 0.        , 0.        , 0.        ,\n",
       "        0.        , 0.        , 0.        , 0.        , 0.        ,\n",
       "        0.        , 0.31876546, 0.        , 0.31876546, 0.        ,\n",
       "        0.31876546, 0.        , 0.22068529, 0.        , 0.26139224,\n",
       "        0.        ],\n",
       "       [0.        , 0.        , 0.        , 0.        , 0.        ,\n",
       "        0.44644324, 0.        , 0.        , 0.        , 0.44644324,\n",
       "        0.        , 0.        , 0.        , 0.        , 0.        ,\n",
       "        0.        , 0.        , 0.44644324, 0.        , 0.        ,\n",
       "        0.36608984, 0.        , 0.        , 0.        , 0.        ,\n",
       "        0.36608984, 0.        , 0.        , 0.        , 0.        ,\n",
       "        0.36608984, 0.        , 0.        , 0.        , 0.        ,\n",
       "        0.        , 0.        , 0.        , 0.        , 0.        ,\n",
       "        0.        ]])"
      ]
     },
     "execution_count": 39,
     "metadata": {},
     "output_type": "execute_result"
    }
   ],
   "source": [
    "input_X.toarray()   #Shows frequency of each feature which is desireable"
   ]
  },
  {
   "cell_type": "code",
   "execution_count": 40,
   "metadata": {},
   "outputs": [
    {
     "data": {
      "text/plain": [
       "['and',\n",
       " 'but',\n",
       " 'care',\n",
       " 'cook',\n",
       " 'cooking',\n",
       " 'demand',\n",
       " 'diet',\n",
       " 'fit',\n",
       " 'for',\n",
       " 'hardwork',\n",
       " 'important',\n",
       " 'in',\n",
       " 'include',\n",
       " 'is',\n",
       " 'it',\n",
       " 'like',\n",
       " 'longer',\n",
       " 'lot',\n",
       " 'my',\n",
       " 'need',\n",
       " 'of',\n",
       " 'one',\n",
       " 'pastas',\n",
       " 'playing',\n",
       " 'priorites',\n",
       " 'professional',\n",
       " 'recipe',\n",
       " 'snacks',\n",
       " 'soup',\n",
       " 'special',\n",
       " 'sports',\n",
       " 'sportsmen',\n",
       " 'stay',\n",
       " 'take',\n",
       " 'takes',\n",
       " 'their',\n",
       " 'this',\n",
       " 'to',\n",
       " 'usually',\n",
       " 'very',\n",
       " 'while']"
      ]
     },
     "execution_count": 40,
     "metadata": {},
     "output_type": "execute_result"
    }
   ],
   "source": [
    "vec.get_feature_names()    #Give us unique features"
   ]
  },
  {
   "cell_type": "code",
   "execution_count": 41,
   "metadata": {},
   "outputs": [
    {
     "data": {
      "text/plain": [
       "41"
      ]
     },
     "execution_count": 41,
     "metadata": {},
     "output_type": "execute_result"
    }
   ],
   "source": [
    "len(vec.get_feature_names())  #Just to varify length of feartures"
   ]
  },
  {
   "cell_type": "code",
   "execution_count": 42,
   "metadata": {},
   "outputs": [
    {
     "data": {
      "text/plain": [
       "{'this': 36,\n",
       " 'recipe': 26,\n",
       " 'is': 13,\n",
       " 'very': 39,\n",
       " 'special': 29,\n",
       " 'for': 8,\n",
       " 'cooking': 4,\n",
       " 'snacks': 27,\n",
       " 'like': 15,\n",
       " 'to': 37,\n",
       " 'cook': 3,\n",
       " 'but': 1,\n",
       " 'it': 14,\n",
       " 'usually': 38,\n",
       " 'takes': 34,\n",
       " 'longer': 16,\n",
       " 'my': 18,\n",
       " 'priorites': 24,\n",
       " 'in': 11,\n",
       " 'include': 12,\n",
       " 'pastas': 22,\n",
       " 'and': 0,\n",
       " 'soup': 28,\n",
       " 'one': 21,\n",
       " 'need': 19,\n",
       " 'stay': 32,\n",
       " 'fit': 7,\n",
       " 'while': 40,\n",
       " 'playing': 23,\n",
       " 'professional': 25,\n",
       " 'sports': 30,\n",
       " 'important': 10,\n",
       " 'sportsmen': 31,\n",
       " 'take': 33,\n",
       " 'care': 2,\n",
       " 'of': 20,\n",
       " 'their': 35,\n",
       " 'diet': 6,\n",
       " 'demand': 5,\n",
       " 'lot': 17,\n",
       " 'hardwork': 9}"
      ]
     },
     "execution_count": 42,
     "metadata": {},
     "output_type": "execute_result"
    }
   ],
   "source": [
    "#interested in perticular order of features and their id \n",
    "vec.vocabulary_"
   ]
  },
  {
   "cell_type": "code",
   "execution_count": null,
   "metadata": {},
   "outputs": [],
   "source": []
  }
 ],
 "metadata": {
  "kernelspec": {
   "display_name": "Python 3",
   "language": "python",
   "name": "python3"
  },
  "language_info": {
   "codemirror_mode": {
    "name": "ipython",
    "version": 3
   },
   "file_extension": ".py",
   "mimetype": "text/x-python",
   "name": "python",
   "nbconvert_exporter": "python",
   "pygments_lexer": "ipython3",
   "version": "3.8.3"
  }
 },
 "nbformat": 4,
 "nbformat_minor": 4
}
