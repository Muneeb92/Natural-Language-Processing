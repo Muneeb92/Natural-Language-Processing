{
 "cells": [
  {
   "cell_type": "code",
   "execution_count": 21,
   "metadata": {},
   "outputs": [],
   "source": [
    "corpus = ['text text mining is interesting',\n",
    "         'text mining is like data mining',\n",
    "         'text mining and data mining have few differences']"
   ]
  },
  {
   "cell_type": "code",
   "execution_count": 22,
   "metadata": {},
   "outputs": [],
   "source": [
    "from sklearn.feature_extraction.text import CountVectorizer "
   ]
  },
  {
   "cell_type": "code",
   "execution_count": 66,
   "metadata": {},
   "outputs": [],
   "source": [
    "#vec = CountVectorizer() #If we want to see the frequencies then we will make object of count vectorizer\n",
    "#vec = CountVectorizer(binary = 'true') #If we want to see frequency in binary form\n",
    "#vec = CountVectorizer(max_df = 2) #Means if any word occuring more than in 2 documents just eliminate it\n",
    "#vec = CountVectorizer(min_df = 2) #Means if any word occuring less than in 2 documents and so infrequent just eliminate it\n",
    "#vec = CountVectorizer(max_features = 4) #Give me the best four features, All features orders will be displayed as uni-gram\n",
    "#vec = CountVectorizer(ngram_range = (1,3)) #IF we are interested in uni-gram ,bi-gram, tri-grams etc Min & max limit is set out\n",
    "#vec = CountVectorizer(ngram_range = (1,3), max_features = 10) #Interested in just best features along uni-gram, bi-gram and tri-gram\n",
    "vec = CountVectorizer()"
   ]
  },
  {
   "cell_type": "code",
   "execution_count": 67,
   "metadata": {},
   "outputs": [],
   "source": [
    "X = vec.fit_transform(corpus)"
   ]
  },
  {
   "cell_type": "code",
   "execution_count": 68,
   "metadata": {},
   "outputs": [
    {
     "data": {
      "text/plain": [
       "<3x10 sparse matrix of type '<class 'numpy.int64'>'\n",
       "\twith 16 stored elements in Compressed Sparse Row format>"
      ]
     },
     "execution_count": 68,
     "metadata": {},
     "output_type": "execute_result"
    }
   ],
   "source": [
    "#Give us structured data of input data known as sparse matrix \n",
    "X"
   ]
  },
  {
   "cell_type": "code",
   "execution_count": 69,
   "metadata": {},
   "outputs": [
    {
     "data": {
      "text/plain": [
       "array([[0, 0, 0, 0, 0, 1, 1, 0, 1, 2],\n",
       "       [0, 1, 0, 0, 0, 0, 1, 1, 2, 1],\n",
       "       [1, 1, 1, 1, 1, 0, 0, 0, 2, 1]], dtype=int64)"
      ]
     },
     "execution_count": 69,
     "metadata": {},
     "output_type": "execute_result"
    }
   ],
   "source": [
    "X.toarray()   #Shows frequency of each feature which is desireable"
   ]
  },
  {
   "cell_type": "code",
   "execution_count": 70,
   "metadata": {},
   "outputs": [
    {
     "data": {
      "text/plain": [
       "['and',\n",
       " 'data',\n",
       " 'differences',\n",
       " 'few',\n",
       " 'have',\n",
       " 'interesting',\n",
       " 'is',\n",
       " 'like',\n",
       " 'mining',\n",
       " 'text']"
      ]
     },
     "execution_count": 70,
     "metadata": {},
     "output_type": "execute_result"
    }
   ],
   "source": [
    "vec.get_feature_names()    #Give us unique features"
   ]
  },
  {
   "cell_type": "code",
   "execution_count": 71,
   "metadata": {},
   "outputs": [
    {
     "data": {
      "text/plain": [
       "10"
      ]
     },
     "execution_count": 71,
     "metadata": {},
     "output_type": "execute_result"
    }
   ],
   "source": [
    "len(vec.get_feature_names())  #Just to varify length of feartures"
   ]
  },
  {
   "cell_type": "code",
   "execution_count": 72,
   "metadata": {},
   "outputs": [
    {
     "data": {
      "text/plain": [
       "{'text': 9,\n",
       " 'mining': 8,\n",
       " 'is': 6,\n",
       " 'interesting': 5,\n",
       " 'like': 7,\n",
       " 'data': 1,\n",
       " 'and': 0,\n",
       " 'have': 4,\n",
       " 'few': 3,\n",
       " 'differences': 2}"
      ]
     },
     "execution_count": 72,
     "metadata": {},
     "output_type": "execute_result"
    }
   ],
   "source": [
    "#interested in perticular order of features and their id \n",
    "vec.vocabulary_"
   ]
  },
  {
   "cell_type": "code",
   "execution_count": null,
   "metadata": {},
   "outputs": [],
   "source": []
  }
 ],
 "metadata": {
  "kernelspec": {
   "display_name": "Python 3",
   "language": "python",
   "name": "python3"
  },
  "language_info": {
   "codemirror_mode": {
    "name": "ipython",
    "version": 3
   },
   "file_extension": ".py",
   "mimetype": "text/x-python",
   "name": "python",
   "nbconvert_exporter": "python",
   "pygments_lexer": "ipython3",
   "version": "3.8.3"
  }
 },
 "nbformat": 4,
 "nbformat_minor": 4
}
