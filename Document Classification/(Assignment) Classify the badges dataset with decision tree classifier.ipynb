{
 "cells": [
  {
   "cell_type": "markdown",
   "metadata": {},
   "source": [
    "# Assignment: Classify the badges dataset with decision tree classifier\n",
    "In this assignment, Use the badges dataset from the UCI repository and pick a vectorizer of their choice to structure the data. Next they have to apply decision tree classifier by trying different maximum depths for the tree and evaluating last 10 instances to verify results."
   ]
  },
  {
   "cell_type": "code",
   "execution_count": 141,
   "metadata": {},
   "outputs": [],
   "source": [
    "corpus = open('D:\\\\badges.data').read() #Reading the dataset"
   ]
  },
  {
   "cell_type": "code",
   "execution_count": 142,
   "metadata": {},
   "outputs": [],
   "source": [
    "docs = corpus.split('\\n') #Spliting in new line"
   ]
  },
  {
   "cell_type": "code",
   "execution_count": 143,
   "metadata": {},
   "outputs": [],
   "source": [
    "X, y = [], []\n",
    "for doc in docs:\n",
    "    l = doc[:1]\n",
    "    i = doc[2:]\n",
    "    X.append(i)\n",
    "    y.append(l)"
   ]
  },
  {
   "cell_type": "code",
   "execution_count": 144,
   "metadata": {},
   "outputs": [],
   "source": [
    "from sklearn.feature_extraction.text import TfidfVectorizer #Using TFIDF text representation technique"
   ]
  },
  {
   "cell_type": "code",
   "execution_count": 145,
   "metadata": {},
   "outputs": [],
   "source": [
    "vec = TfidfVectorizer()"
   ]
  },
  {
   "cell_type": "code",
   "execution_count": 146,
   "metadata": {},
   "outputs": [],
   "source": [
    "matrix_X = vec.fit_transform(X) #Convert input file into matrix form"
   ]
  },
  {
   "cell_type": "code",
   "execution_count": 147,
   "metadata": {},
   "outputs": [
    {
     "data": {
      "text/plain": [
       "<294x523 sparse matrix of type '<class 'numpy.float64'>'\n",
       "\twith 607 stored elements in Compressed Sparse Row format>"
      ]
     },
     "execution_count": 147,
     "metadata": {},
     "output_type": "execute_result"
    }
   ],
   "source": [
    "matrix_X"
   ]
  },
  {
   "cell_type": "code",
   "execution_count": 148,
   "metadata": {},
   "outputs": [],
   "source": [
    "from sklearn.tree import DecisionTreeClassifier #Decision Tree Classifier"
   ]
  },
  {
   "cell_type": "code",
   "execution_count": 165,
   "metadata": {},
   "outputs": [],
   "source": [
    "dt = DecisionTreeClassifier(max_depth = 2) # max_depth is used to define level of branching on features"
   ]
  },
  {
   "cell_type": "code",
   "execution_count": 166,
   "metadata": {},
   "outputs": [
    {
     "data": {
      "text/plain": [
       "DecisionTreeClassifier(max_depth=2)"
      ]
     },
     "execution_count": 166,
     "metadata": {},
     "output_type": "execute_result"
    }
   ],
   "source": [
    "dt.fit(matrix_X[:285], y[:285]) #Taining model with some part of dataset from 0 to 284"
   ]
  },
  {
   "cell_type": "code",
   "execution_count": 167,
   "metadata": {},
   "outputs": [
    {
     "data": {
      "text/plain": [
       "array(['+', '+', '+', '+', '+', '+', '-', '+', '+'], dtype='<U1')"
      ]
     },
     "execution_count": 167,
     "metadata": {},
     "output_type": "execute_result"
    }
   ],
   "source": [
    "dt.predict(matrix_X[285:]) #Testing model using last 10 remaining dataset 285 to 294"
   ]
  },
  {
   "cell_type": "code",
   "execution_count": 168,
   "metadata": {},
   "outputs": [
    {
     "data": {
      "text/plain": [
       "array([[0.72924188, 0.27075812],\n",
       "       [0.72924188, 0.27075812],\n",
       "       [0.72924188, 0.27075812],\n",
       "       [0.72924188, 0.27075812],\n",
       "       [0.72924188, 0.27075812],\n",
       "       [0.72924188, 0.27075812],\n",
       "       [0.        , 1.        ],\n",
       "       [0.72924188, 0.27075812],\n",
       "       [0.72924188, 0.27075812]])"
      ]
     },
     "execution_count": 168,
     "metadata": {},
     "output_type": "execute_result"
    }
   ],
   "source": [
    "dt.predict_proba(matrix_X[285:]) #Probability of Decision Tree classifier"
   ]
  },
  {
   "cell_type": "code",
   "execution_count": 169,
   "metadata": {},
   "outputs": [],
   "source": [
    "dt = DecisionTreeClassifier(max_depth = 3) # max_depth is used to define level of branching on features"
   ]
  },
  {
   "cell_type": "code",
   "execution_count": 170,
   "metadata": {},
   "outputs": [
    {
     "data": {
      "text/plain": [
       "DecisionTreeClassifier(max_depth=3)"
      ]
     },
     "execution_count": 170,
     "metadata": {},
     "output_type": "execute_result"
    }
   ],
   "source": [
    "dt.fit(matrix_X[:285], y[:285]) #Taining model with some part of dataset from 0 to 284"
   ]
  },
  {
   "cell_type": "code",
   "execution_count": 171,
   "metadata": {},
   "outputs": [
    {
     "data": {
      "text/plain": [
       "array(['+', '+', '+', '+', '+', '+', '-', '+', '+'], dtype='<U1')"
      ]
     },
     "execution_count": 171,
     "metadata": {},
     "output_type": "execute_result"
    }
   ],
   "source": [
    "dt.predict(matrix_X[285:]) #Testing model using last 10 remaining dataset 285 to 294"
   ]
  },
  {
   "cell_type": "code",
   "execution_count": 172,
   "metadata": {},
   "outputs": [
    {
     "data": {
      "text/plain": [
       "array([[0.73722628, 0.26277372],\n",
       "       [0.73722628, 0.26277372],\n",
       "       [0.73722628, 0.26277372],\n",
       "       [0.73722628, 0.26277372],\n",
       "       [0.73722628, 0.26277372],\n",
       "       [0.73722628, 0.26277372],\n",
       "       [0.        , 1.        ],\n",
       "       [0.73722628, 0.26277372],\n",
       "       [0.73722628, 0.26277372]])"
      ]
     },
     "execution_count": 172,
     "metadata": {},
     "output_type": "execute_result"
    }
   ],
   "source": [
    "dt.predict_proba(matrix_X[285:]) #Probability of Decision Tree classifier"
   ]
  },
  {
   "cell_type": "code",
   "execution_count": 173,
   "metadata": {},
   "outputs": [],
   "source": [
    "dt = DecisionTreeClassifier(max_depth = 4) # max_depth is used to define level of branching on features"
   ]
  },
  {
   "cell_type": "code",
   "execution_count": 174,
   "metadata": {},
   "outputs": [
    {
     "data": {
      "text/plain": [
       "DecisionTreeClassifier(max_depth=4)"
      ]
     },
     "execution_count": 174,
     "metadata": {},
     "output_type": "execute_result"
    }
   ],
   "source": [
    "dt.fit(matrix_X[:285], y[:285]) #Taining model with some part of dataset from 0 to 284"
   ]
  },
  {
   "cell_type": "code",
   "execution_count": 175,
   "metadata": {},
   "outputs": [
    {
     "data": {
      "text/plain": [
       "array(['+', '+', '+', '+', '+', '+', '-', '+', '+'], dtype='<U1')"
      ]
     },
     "execution_count": 175,
     "metadata": {},
     "output_type": "execute_result"
    }
   ],
   "source": [
    "dt.predict(matrix_X[285:]) #Testing model using last 10 remaining dataset 285 to 294"
   ]
  },
  {
   "cell_type": "code",
   "execution_count": 176,
   "metadata": {},
   "outputs": [
    {
     "data": {
      "text/plain": [
       "array([[0.74264706, 0.25735294],\n",
       "       [0.74264706, 0.25735294],\n",
       "       [0.74264706, 0.25735294],\n",
       "       [0.74264706, 0.25735294],\n",
       "       [0.74264706, 0.25735294],\n",
       "       [0.74264706, 0.25735294],\n",
       "       [0.        , 1.        ],\n",
       "       [0.74264706, 0.25735294],\n",
       "       [0.74264706, 0.25735294]])"
      ]
     },
     "execution_count": 176,
     "metadata": {},
     "output_type": "execute_result"
    }
   ],
   "source": [
    "dt.predict_proba(matrix_X[285:]) #Probability of Decision Tree classifier"
   ]
  }
 ],
 "metadata": {
  "kernelspec": {
   "display_name": "Python 3",
   "language": "python",
   "name": "python3"
  },
  "language_info": {
   "codemirror_mode": {
    "name": "ipython",
    "version": 3
   },
   "file_extension": ".py",
   "mimetype": "text/x-python",
   "name": "python",
   "nbconvert_exporter": "python",
   "pygments_lexer": "ipython3",
   "version": "3.8.3"
  }
 },
 "nbformat": 4,
 "nbformat_minor": 4
}
