{
 "cells": [
  {
   "cell_type": "code",
   "execution_count": 33,
   "metadata": {},
   "outputs": [],
   "source": [
    "corpus = open('D:\\\\dataset.txt').read() #Give path of dataset from your pc"
   ]
  },
  {
   "cell_type": "code",
   "execution_count": 34,
   "metadata": {},
   "outputs": [],
   "source": [
    "docs = corpus.split('\\n') #Spliting the dataset in new lines"
   ]
  },
  {
   "cell_type": "code",
   "execution_count": 35,
   "metadata": {},
   "outputs": [
    {
     "data": {
      "text/plain": [
       "['milk bread bread bread : grocery',\n",
       " 'bread milk milk bread: grocery',\n",
       " 'milk milk milk bread bread bread bread : grocery',\n",
       " 'cat cat cat dog dog bark : pets',\n",
       " 'dog dog cat bark mew mew : pets',\n",
       " 'cat dog cat dog mew cat : pets']"
      ]
     },
     "execution_count": 35,
     "metadata": {},
     "output_type": "execute_result"
    }
   ],
   "source": [
    "docs"
   ]
  },
  {
   "cell_type": "code",
   "execution_count": 36,
   "metadata": {},
   "outputs": [],
   "source": [
    "X, y = [], []           #Now spliting both data and label part on the basis of colon ':'\n",
    "for doc in docs:\n",
    "    i, l = doc.split(':')\n",
    "    X.append(i.strip()) #Removes extra spaces\n",
    "    y.append(l.strip())"
   ]
  },
  {
   "cell_type": "code",
   "execution_count": 37,
   "metadata": {},
   "outputs": [],
   "source": [
    "from sklearn.feature_extraction.text import CountVectorizer #importing class of CountVectorizer for Structuring the data\n",
    "vec = CountVectorizer() \n",
    "matrix_X = vec.fit_transform(X) #Data is transform in matrix form"
   ]
  },
  {
   "cell_type": "code",
   "execution_count": 38,
   "metadata": {},
   "outputs": [],
   "source": [
    "from sklearn.neighbors import KNeighborsClassifier #KNN classifiers\n",
    "from sklearn.naive_bayes import MultinomialNB #Naive_Bayes classifier \n",
    "from sklearn.tree import DecisionTreeClassifier #Decision Tree Classifier\n",
    "from sklearn.linear_model import SGDClassifier #Linear Classifier"
   ]
  },
  {
   "cell_type": "code",
   "execution_count": 39,
   "metadata": {},
   "outputs": [],
   "source": [
    "# 'n_neighbors' are the number of neighbors that will vote for the class of the target point\n",
    "#Algorithm is used to evaluate distance between unseen document and training data\n",
    "#ball_tree’ will use BallTree\n",
    "#‘kd_tree’ will use KDTree\n",
    "#‘brute’ will use a brute-force search.\n",
    "#‘auto’ will attempt to decide the most appropriate algorithm based on the values passed to fit method.\n",
    "knn = KNeighborsClassifier(n_neighbors = 3, algorithm = 'kd_tree', weights = 'distance') #KNN classifiers"
   ]
  },
  {
   "cell_type": "code",
   "execution_count": 40,
   "metadata": {},
   "outputs": [],
   "source": [
    "#Alpha used as smoothing factor, fit_prior is used for prior probability as a uniform, class_prior is used to set prior probability value by own.\n",
    "nb = MultinomialNB(alpha = 1.0, class_prior = [0.7, 0.3]) "
   ]
  },
  {
   "cell_type": "code",
   "execution_count": 41,
   "metadata": {},
   "outputs": [],
   "source": [
    "# max_depth is used to define level of branching on features\n",
    "dt = DecisionTreeClassifier(max_depth = 2)"
   ]
  },
  {
   "cell_type": "code",
   "execution_count": 42,
   "metadata": {},
   "outputs": [],
   "source": [
    "#max_iter is used for certain number of iterations to find best solution \n",
    "ln = SGDClassifier(max_iter = 1000) "
   ]
  }
 ],
 "metadata": {
  "kernelspec": {
   "display_name": "Python 3",
   "language": "python",
   "name": "python3"
  },
  "language_info": {
   "codemirror_mode": {
    "name": "ipython",
    "version": 3
   },
   "file_extension": ".py",
   "mimetype": "text/x-python",
   "name": "python",
   "nbconvert_exporter": "python",
   "pygments_lexer": "ipython3",
   "version": "3.8.3"
  }
 },
 "nbformat": 4,
 "nbformat_minor": 4
}
